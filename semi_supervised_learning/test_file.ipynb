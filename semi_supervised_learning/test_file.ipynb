{
 "cells": [
  {
   "cell_type": "code",
   "execution_count": null,
   "metadata": {},
   "outputs": [],
   "source": [
    "from Main_2D import train_model\n",
    "\n",
    "data_path = r\"/home/8dm20-7/Data/train\"\n",
    "save_path = r\"/home/8dm20-7/Results\"\n",
    "\n",
    "result = train_model(data_path=data_path, save_path=save_path, model_name=\"with_augmentation\", start_ch=16, batch_size=16, learning_rate=0.0001, normalization=\"BatchNormalization\", depth=6)\n"
   ]
  }
 ],
 "metadata": {
  "kernelspec": {
   "display_name": "Python 3 (Spyder)",
   "language": "python3",
   "name": "python3"
  },
  "language_info": {
   "codemirror_mode": {
    "name": "ipython",
    "version": 3
   },
   "file_extension": ".py",
   "mimetype": "text/x-python",
   "name": "python",
   "nbconvert_exporter": "python",
   "pygments_lexer": "ipython3",
   "version": "3.7.9"
  }
 },
 "nbformat": 4,
 "nbformat_minor": 4
}
