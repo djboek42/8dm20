{
 "cells": [
  {
   "cell_type": "code",
   "execution_count": 1,
   "metadata": {},
   "outputs": [
    {
     "name": "stdout",
     "output_type": "stream",
     "text": [
      "--------------------------------------------------\n",
      "Loading Data\n",
      "--------------------------------------------------\n"
     ]
    },
    {
     "ename": "FileNotFoundError",
     "evalue": "[WinError 3] The system cannot find the path specified: '/home/8dm20-7/Data/train'",
     "output_type": "error",
     "traceback": [
      "Traceback \u001b[1;36m(most recent call last)\u001b[0m:\n",
      "  File \u001b[0;32m\"<ipython-input-1-09d69f53ce72>\"\u001b[0m, line \u001b[0;32m7\u001b[0m, in \u001b[0;35m<module>\u001b[0m\n    result = train_model(data_path=data_path, unlabelled_data_path = unlabelled_data_path, save_path=save_path, model_name=\"with_augmentation\", start_ch=16, batch_size=16, learning_rate=0.0001, normalization=\"BatchNormalization\", depth=6, semi_supervised=True, augment_factor=5, nr_epochs=100, division_rate=5)\n",
      "  File \u001b[0;32m\"C:\\Users\\20164798\\OneDrive - TU Eindhoven\\UNI\\ME 1\\Q3\\CS of MI\\Image Registration Project\\Code\\deel 2\\Main_2D.py\"\u001b[0m, line \u001b[0;32m29\u001b[0m, in \u001b[0;35mtrain_model\u001b[0m\n    images, masks = load_data(data_path, imgs, msks, x_size, y_size)\n",
      "\u001b[1;36m  File \u001b[1;32m\"C:\\Users\\20164798\\OneDrive - TU Eindhoven\\UNI\\ME 1\\Q3\\CS of MI\\Image Registration Project\\Code\\deel 2\\Data_2D.py\"\u001b[1;36m, line \u001b[1;32m61\u001b[1;36m, in \u001b[1;35mload_data\u001b[1;36m\u001b[0m\n\u001b[1;33m    patients = os.listdir(data_path)\u001b[0m\n",
      "\u001b[1;31mFileNotFoundError\u001b[0m\u001b[1;31m:\u001b[0m [WinError 3] The system cannot find the path specified: '/home/8dm20-7/Data/train'\n"
     ]
    }
   ],
   "source": [
    "from Main_2D import train_model\n",
    "\n",
    "data_path = r\"/home/8dm20-7/Data/train\"\n",
    "unlabelled_data_path = r\"/home/8dm20-7/Data/unlabelled\"\n",
    "save_path = r\"/home/8dm20-7/Results\"\n",
    "\n",
    "result = train_model(data_path=data_path, unlabelled_data_path = unlabelled_data_path, save_path=save_path, model_name=\"with_augmentation\", start_ch=16, batch_size=16, learning_rate=0.0001, normalization=\"BatchNormalization\", depth=6, semi_supervised=True, augment_factor=5, nr_epochs=100, division_rate=5)\n"
   ]
  }
 ],
 "metadata": {
  "kernelspec": {
   "display_name": "Python 3 (Spyder)",
   "language": "python3",
   "name": "python3"
  },
  "language_info": {
   "codemirror_mode": {
    "name": "ipython",
    "version": 3
   },
   "file_extension": ".py",
   "mimetype": "text/x-python",
   "name": "python",
   "nbconvert_exporter": "python",
   "pygments_lexer": "ipython3",
   "version": "3.7.9"
  }
 },
 "nbformat": 4,
 "nbformat_minor": 4
}
